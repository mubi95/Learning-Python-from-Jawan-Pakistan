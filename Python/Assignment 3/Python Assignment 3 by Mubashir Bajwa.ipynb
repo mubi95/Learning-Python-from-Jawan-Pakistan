{
 "cells": [
  {
   "cell_type": "code",
   "execution_count": 1,
   "metadata": {},
   "outputs": [
    {
     "name": "stdout",
     "output_type": "stream",
     "text": [
      "Twinkle, twinkle, little star, \n",
      "\t How I wonder what you are! \n",
      "\t\t Up above the world so high,\n",
      " \t\t Like a diamond in the sky.\n",
      "Twinkle, twinkle, little star,  \n",
      "\t How I wonder what you are!\n"
     ]
    }
   ],
   "source": [
    "\"\"\"Q1) Write a Python program which accepts the radius of a circle from the user and compute\n",
    "the area. \"\"\"\n",
    "\n",
    "#Solution\n",
    "\n",
    "from math import pi\n",
    "r = float(input (\"Input the radius of the circle : \"))\n",
    "print (\"The area of the circle with radius \" + str(r) + \" is: \" + str(pi * r**2))Q1) Write a Python program to print the following string in a specific format (see the\n",
    "output).\n",
    "\n",
    "Twinkle, twinkle, little star,\n",
    "How I wonder what you are!\n",
    "Up above the world so high,\n",
    "Like a diamond in the sky.\n",
    "Twinkle, twinkle, little star,\n",
    "How I wonder what you are\n",
    "\"\"\"\n",
    "#Solution\n",
    "\n",
    "print(\"Twinkle, twinkle, little star, \\n\\t How I wonder what you are! \\n\\t\\t Up above the world so high,\\n \\t\\t Like a diamond in the sky.\\nTwinkle, twinkle, little star,  \\n\\t How I wonder what you are!\")"
   ]
  },
  {
   "cell_type": "code",
   "execution_count": 2,
   "metadata": {},
   "outputs": [
    {
     "name": "stdout",
     "output_type": "stream",
     "text": [
      "3.8.5 (default, Sep  3 2020, 21:29:08) [MSC v.1916 64 bit (AMD64)]\n"
     ]
    }
   ],
   "source": [
    "#Q2) Write a Python program to get the Python version you are using\n",
    "import sys\n",
    "print(sys.version)"
   ]
  },
  {
   "cell_type": "code",
   "execution_count": 3,
   "metadata": {},
   "outputs": [
    {
     "name": "stdout",
     "output_type": "stream",
     "text": [
      "Current date and time : \n",
      "2021-10-22 15:13:58\n"
     ]
    }
   ],
   "source": [
    "#Q3) Write a Python program to display the current date and time.\n",
    "\n",
    "#Solution\n",
    "\n",
    "import datetime\n",
    "now = datetime.datetime.now()\n",
    "print (\"Current date and time : \")\n",
    "print (now.strftime(\"%Y-%m-%d %H:%M:%S\"))"
   ]
  },
  {
   "cell_type": "code",
   "execution_count": 4,
   "metadata": {},
   "outputs": [
    {
     "name": "stdout",
     "output_type": "stream",
     "text": [
      "Input the radius of the circle : 56.8\n",
      "The area of the circle with radius 56.8 is: 10135.531882717534\n"
     ]
    }
   ],
   "source": [
    "\"\"\" #Q4 )Write a Python program which accepts the radius of a circle from the user and compute\n",
    "the area. \"\"\"\n",
    "\n",
    "#Solution\n",
    "\n",
    "from math import pi\n",
    "r = float(input (\"Input the radius of the circle : \"))\n",
    "print (\"The area of the circle with radius \" + str(r) + \" is: \" + str(pi * r**2))\n"
   ]
  },
  {
   "cell_type": "code",
   "execution_count": 5,
   "metadata": {},
   "outputs": [
    {
     "name": "stdout",
     "output_type": "stream",
     "text": [
      "awjaB rihsabuM\n"
     ]
    }
   ],
   "source": [
    "\"\"\" Q5) Write a Python program which accepts the user's first and last name and print them in\n",
    "reverse order with a space between them. \"\"\"\n",
    "\n",
    "stringReverse = \"Mubashir Bajwa\"[::-1]\n",
    "print(stringReverse);\n"
   ]
  },
  {
   "cell_type": "code",
   "execution_count": 6,
   "metadata": {},
   "outputs": [
    {
     "name": "stdout",
     "output_type": "stream",
     "text": [
      "enter first no \t56\n",
      "enter second no 78\n",
      "134\n"
     ]
    }
   ],
   "source": [
    "# Q6) Write a python program which takes two inputs from user and print them addition\n",
    "\n",
    "#Solution\n",
    "\n",
    "numberOne = int(input(\"enter first no \\t\"))\n",
    "numberTwo = int(input(\"enter second no \"))\n",
    "Addition = numberOne + numberTwo\n",
    "print(Addition )"
   ]
  },
  {
   "cell_type": "code",
   "execution_count": 25,
   "metadata": {},
   "outputs": [
    {
     "name": "stdout",
     "output_type": "stream",
     "text": [
      "Wow amazing job\n"
     ]
    }
   ],
   "source": [
    "print(\"Wow amazing job\")"
   ]
  },
  {
   "cell_type": "code",
   "execution_count": 20,
   "metadata": {},
   "outputs": [
    {
     "name": "stdout",
     "output_type": "stream",
     "text": [
      "Enter your English Marks80\n",
      "Enter your Urdu Marks90\n",
      "Enter your Math Marks90\n",
      "Enter your Math Marks87\n",
      "Enter your Computer Marks67\n",
      "414\n",
      "your grade is A+\n"
     ]
    }
   ],
   "source": [
    "eng = int(input(\"Enter your English Marks\"))\n",
    "urdu = int(input(\"Enter your Urdu Marks\"))\n",
    "math = int(input(\"Enter your Math Marks\"))\n",
    "physics = int(input(\"Enter your Math Marks\"))\n",
    "computer = int(input(\"Enter your Computer Marks\"))\n",
    "\n",
    "Obtain_Marks = eng + urdu + math + physics + computer;\n",
    "Total_Marks = 500;\n",
    "percentage = (Obtain_Marks / Total_Marks )* 100;\n",
    "print (Obtain_Marks);\n",
    "if   percentage < 32:\n",
    "     print(\"You are fail\");\n",
    "elif percentage < 100 and percentage > 80:\n",
    "     print(\"your grade is A+\");\n",
    "elif percentage < 80 and percentage > 70:\n",
    "     print(\"your grade is A\");\n",
    "elif percentage < 70 and percentage > 60:\n",
    "     print(\"your grade is B\");\n",
    "elif percentage < 60 and percentage > 50:\n",
    "     print(\"your grade is C\");\n",
    "elif percentage < 50 and percentage > 40:\n",
    "     print(\"your grade is D\");\n",
    "else:\n",
    "     print(\"enter appropriate percentage\");"
   ]
  },
  {
   "cell_type": "code",
   "execution_count": 9,
   "metadata": {},
   "outputs": [
    {
     "name": "stdout",
     "output_type": "stream",
     "text": [
      "enter number \t50\n",
      "its even\n"
     ]
    }
   ],
   "source": [
    "\"\"\" Q8) Write a program which take input from user and identify that the given number is even\n",
    "or odd?  \"\"\" \n",
    "\n",
    "#Solution\n",
    "\n",
    "evenOrOdd = int(input(\"enter number \\t\"))\n",
    "if(evenOrOdd%2==0):\n",
    "    print(\"its even\")\n",
    "else:\n",
    "     print(\"its odd\")"
   ]
  },
  {
   "cell_type": "code",
   "execution_count": 10,
   "metadata": {},
   "outputs": [
    {
     "name": "stdout",
     "output_type": "stream",
     "text": [
      "3\n"
     ]
    }
   ],
   "source": [
    "# Q9) Write a program which print the length of the list?\n",
    "\n",
    "#Solution\n",
    "\n",
    "list = [\"hamaza\",\"osama\",\"fahad\"]\n",
    "print(len(list))"
   ]
  },
  {
   "cell_type": "code",
   "execution_count": 11,
   "metadata": {},
   "outputs": [
    {
     "name": "stdout",
     "output_type": "stream",
     "text": [
      "66\n"
     ]
    }
   ],
   "source": [
    "# Q10) Write a Python program to sum all the numeric items in a list?\n",
    "\n",
    "#Solution\n",
    "\n",
    "list = [5,6,7,8,9,5,3,6,8,9]\n",
    "print(sum(list))"
   ]
  },
  {
   "cell_type": "code",
   "execution_count": 12,
   "metadata": {},
   "outputs": [
    {
     "name": "stdout",
     "output_type": "stream",
     "text": [
      "9\n"
     ]
    }
   ],
   "source": [
    "# Q11) Write a Python program to get the largest number from a numeric list.\n",
    "\n",
    "#Solution\n",
    "\n",
    "list = [5,6,7,8,9,5,3,6,8,9]\n",
    "print(max(list))\n"
   ]
  },
  {
   "cell_type": "code",
   "execution_count": 16,
   "metadata": {},
   "outputs": [
    {
     "name": "stdout",
     "output_type": "stream",
     "text": [
      "1\n",
      "1\n",
      "2\n",
      "3\n"
     ]
    }
   ],
   "source": [
    "\"\"\" Q12 )Take a list, say for example this one:\n",
    "a = [1, 1, 2, 3, 5, 8, 13, 21, 34, 55, 89]\n",
    "Write a program that prints out all the elements of the list that are less than 5.\n",
    "\"\"\" \n",
    "\n",
    "#Solution\n",
    "\n",
    "list =  [1, 1, 2, 3, 5, 8, 13, 21, 34, 55, 89]\n",
    "for i in list:\n",
    "    if i<5:\n",
    "        print(i)"
   ]
  },
  {
   "cell_type": "code",
   "execution_count": 23,
   "metadata": {},
   "outputs": [
    {
     "name": "stdout",
     "output_type": "stream",
     "text": [
      "The\n"
     ]
    }
   ],
   "source": [
    "print(\"The\")"
   ]
  },
  {
   "cell_type": "code",
   "execution_count": 17,
   "metadata": {},
   "outputs": [
    {
     "name": "stdout",
     "output_type": "stream",
     "text": [
      "End\n"
     ]
    }
   ],
   "source": [
    "print(\"End\")"
   ]
  },
  {
   "cell_type": "code",
   "execution_count": null,
   "metadata": {},
   "outputs": [],
   "source": []
  }
 ],
 "metadata": {
  "kernelspec": {
   "display_name": "Python 3",
   "language": "python",
   "name": "python3"
  },
  "language_info": {
   "codemirror_mode": {
    "name": "ipython",
    "version": 3
   },
   "file_extension": ".py",
   "mimetype": "text/x-python",
   "name": "python",
   "nbconvert_exporter": "python",
   "pygments_lexer": "ipython3",
   "version": "3.8.5"
  }
 },
 "nbformat": 4,
 "nbformat_minor": 4
}
